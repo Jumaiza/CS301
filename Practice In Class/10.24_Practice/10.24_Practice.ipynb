{
 "cells": [
  {
   "cell_type": "code",
   "execution_count": 9,
   "metadata": {},
   "outputs": [],
   "source": [
    "import matplotlib.pyplot as plt\n",
    "import numpy as np\n",
    "import pandas as pd\n",
    "from sklearn.linear_model import LinearRegression\n",
    "from sklearn import metrics"
   ]
  },
  {
   "cell_type": "code",
   "execution_count": 10,
   "metadata": {},
   "outputs": [
    {
     "name": "stdout",
     "output_type": "stream",
     "text": [
      "QUESTION 1\n",
      "MAE of Model 1:  0.23801060713340583\n",
      "MSE of Model 1:  0.08682278884964177\n"
     ]
    }
   ],
   "source": [
    "print(\"QUESTION 1\")\n",
    "\n",
    "data_train = pd.read_csv('train-1.csv')\n",
    "data_test=pd.read_csv(\"test-1-1.csv\")\n",
    "pd.set_option('display.float_format', lambda x: '%.5f' % x)\n",
    "\n",
    "X=data_train.iloc[:,2:12]\n",
    "Y=data_train.iloc[:,1]\n",
    "Y=Y.map({'M':1,'B':0})\n",
    "\n",
    "X_test=data_test.iloc[:,2:12]\n",
    "Y_test=data_test.iloc[:,1]\n",
    "Y_test=Y_test.map({'M':1,'B':0})\n",
    "\n",
    "model1= LinearRegression().fit(X,Y)\n",
    "y_pred= model1.predict(X_test)\n",
    "\n",
    "print(\"MAE of Model 1: \",metrics.mean_absolute_error(Y_test,y_pred))\n",
    "print(\"MSE of Model 1: \",metrics.mean_squared_error(Y_test,y_pred))"
   ]
  },
  {
   "cell_type": "code",
   "execution_count": 11,
   "metadata": {},
   "outputs": [
    {
     "name": "stdout",
     "output_type": "stream",
     "text": [
      "QUESTION 2\n",
      "MAE of Model 2:  0.31861501682884824\n",
      "MSE of Model 2:  0.17013940065929825\n"
     ]
    }
   ],
   "source": [
    "print(\"QUESTION 2\")\n",
    "\n",
    "X2=data_train.iloc[:,12:22]\n",
    "Y2=data_train.iloc[:,1]\n",
    "Y2=Y2.map({'M':1,'B':0})\n",
    "\n",
    "X2_test=data_test.iloc[:,12:22]\n",
    "Y2_test=data_test.iloc[:,1]\n",
    "Y2_test=Y2_test.map({'M':1,'B':0})\n",
    "\n",
    "model2= LinearRegression().fit(X2,Y2)\n",
    "Y2_pred= model2.predict(X2_test)\n",
    "\n",
    "print(\"MAE of Model 2: \",metrics.mean_absolute_error(Y2_test,Y2_pred))\n",
    "print(\"MSE of Model 2: \",metrics.mean_squared_error(Y2_test,Y2_pred))"
   ]
  },
  {
   "cell_type": "code",
   "execution_count": 13,
   "metadata": {},
   "outputs": [
    {
     "name": "stdout",
     "output_type": "stream",
     "text": [
      "QUESTION 3\n",
      "MAE of Model 3:  0.205833644048762\n",
      "MSE of Model 3:  0.07084553445173705\n"
     ]
    }
   ],
   "source": [
    "print(\"QUESTION 3\")\n",
    "\n",
    "X3=data_train.iloc[:,np.r_[2:12,22:32]].values\n",
    "Y3=data_train.iloc[:,1]\n",
    "Y3=Y3.map({'M':1,'B':0})\n",
    "\n",
    "X3_test = data_test.iloc[:,np.r_[2:12,22:32]].values\n",
    "Y3_test=data_test.iloc[:,1]\n",
    "Y3_test=Y3_test.map({'M':1,'B':0})\n",
    "\n",
    "model3= LinearRegression().fit(X3,Y3)\n",
    "Y3_pred= model3.predict(X3_test)\n",
    "print(\"MAE of Model 3: \",metrics.mean_absolute_error(Y3_test,Y3_pred))\n",
    "print(\"MSE of Model 3: \", metrics.mean_squared_error(Y3_test,Y3_pred))"
   ]
  },
  {
   "cell_type": "markdown",
   "metadata": {},
   "source": [
    "QUESTION 4:\n",
    "\n",
    "Model 3 is the best model because it has the lowest MAE and MSE of all models"
   ]
  }
 ],
 "metadata": {
  "kernelspec": {
   "display_name": "Python 3.10.7 64-bit",
   "language": "python",
   "name": "python3"
  },
  "language_info": {
   "codemirror_mode": {
    "name": "ipython",
    "version": 3
   },
   "file_extension": ".py",
   "mimetype": "text/x-python",
   "name": "python",
   "nbconvert_exporter": "python",
   "pygments_lexer": "ipython3",
   "version": "3.10.7"
  },
  "orig_nbformat": 4,
  "vscode": {
   "interpreter": {
    "hash": "aee8b7b246df8f9039afb4144a1f6fd8d2ca17a180786b69acc140d282b71a49"
   }
  }
 },
 "nbformat": 4,
 "nbformat_minor": 2
}
