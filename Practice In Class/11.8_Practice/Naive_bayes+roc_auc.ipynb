{
 "cells": [
  {
   "cell_type": "code",
   "execution_count": null,
   "metadata": {},
   "outputs": [],
   "source": [
    "from sklearn.datasets import make_classification\n",
    "from sklearn.naive_bayes import GaussianNB\n",
    "from sklearn.model_selection import train_test_split\n",
    "from sklearn.metrics import accuracy_score,confusion_matrix,roc_curve,auc,roc_auc_score\n",
    "import statsmodels.api as sm\n",
    "import matplotlib.pyplot as plt\n",
    "X,Y=make_classification(n_samples=1000,n_classes=2,random_state=1)\n",
    "print(X)\n",
    "check_data=X[:,1]\n",
    "sm.qqplot(check_data,line='45')\n",
    "plt.show()\n",
    "x_train,x_test,y_train,y_test=train_test_split(X,Y,test_size=0.3)\n",
    "model=GaussianNB().fit(x_train,y_train)\n",
    "y_pred=model.predict(x_test)\n",
    "print(confusion_matrix(y_test,y_pred))\n",
    "print(accuracy_score(y_test,y_pred))\n",
    "fpr,tpr,_=roc_curve(y_test,y_pred)\n",
    "\n",
    "plt.plot(fpr,tpr,label=\"RoC curve\")\n",
    "plt.xlim([0.0,1.0])\n",
    "plt.ylim([0.0,1.0])\n",
    "plt.xlabel(\"False positive rate or (1-specificty)\")\n",
    "plt.ylabel(\"True positive rate or sensitivity\")\n",
    "plt.show()\n",
    "##calculate area under curve\n",
    "auc_score=roc_auc_score(y_test,y_pred)\n",
    "print(auc_score)"
   ]
  }
 ],
 "metadata": {
  "kernelspec": {
   "display_name": "Python 3.10.7 64-bit",
   "language": "python",
   "name": "python3"
  },
  "language_info": {
   "name": "python",
   "version": "3.10.7"
  },
  "orig_nbformat": 4,
  "vscode": {
   "interpreter": {
    "hash": "aee8b7b246df8f9039afb4144a1f6fd8d2ca17a180786b69acc140d282b71a49"
   }
  }
 },
 "nbformat": 4,
 "nbformat_minor": 2
}
