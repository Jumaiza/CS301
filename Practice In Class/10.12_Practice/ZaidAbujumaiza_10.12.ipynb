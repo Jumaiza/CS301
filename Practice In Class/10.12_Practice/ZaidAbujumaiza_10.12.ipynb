{
 "cells": [
  {
   "cell_type": "code",
   "execution_count": 5,
   "metadata": {},
   "outputs": [],
   "source": [
    "import numpy as np\n",
    "from numpy import mean,random\n",
    "from numpy import std\n",
    "from numpy.random import randn\n",
    "from numpy.random import seed\n",
    "from matplotlib import pyplot\n",
    "from numpy import cov\n",
    "from scipy.stats import pearsonr, chi2_contingency\n",
    "from scipy.stats import spearmanr\n",
    "import scipy.stats as stats\n",
    "import pandas as pd\n",
    "import seaborn as sns\n",
    "import statistics"
   ]
  },
  {
   "cell_type": "code",
   "execution_count": 6,
   "metadata": {},
   "outputs": [
    {
     "name": "stdout",
     "output_type": "stream",
     "text": [
      "<class 'pandas.core.frame.DataFrame'>\n",
      "RangeIndex: 20 entries, 0 to 19\n",
      "Data columns (total 2 columns):\n",
      " #   Column       Non-Null Count  Dtype  \n",
      "---  ------       --------------  -----  \n",
      " 0   Acheivement  20 non-null     int64  \n",
      " 1   Gpa          20 non-null     float64\n",
      "dtypes: float64(1), int64(1)\n",
      "memory usage: 448.0 bytes\n",
      "PearsonRResult(statistic=0.5241276226837909, pvalue=0.01768301795944297)\n",
      "There is a low positive correlation and it is statistically significant at 0.1\n"
     ]
    }
   ],
   "source": [
    "# Question 1\n",
    "df=pd.read_csv('week6_1-1.csv')\n",
    "df.info()\n",
    "\n",
    "corr = pearsonr(df['Acheivement'],df['Gpa'])\n",
    "print(corr)\n",
    "\n",
    "print(\"There is a low positive correlation and it is statistically significant at 0.1\")\n"
   ]
  },
  {
   "cell_type": "code",
   "execution_count": 7,
   "metadata": {},
   "outputs": [
    {
     "name": "stdout",
     "output_type": "stream",
     "text": [
      "<class 'pandas.core.frame.DataFrame'>\n",
      "RangeIndex: 10 entries, 0 to 9\n",
      "Data columns (total 2 columns):\n",
      " #   Column        Non-Null Count  Dtype\n",
      "---  ------        --------------  -----\n",
      " 0   dollars       10 non-null     int64\n",
      " 1   satisfaction  10 non-null     int64\n",
      "dtypes: int64(2)\n",
      "memory usage: 288.0 bytes\n",
      "There is no correlation and it is only stastically significant at 90%\n"
     ]
    }
   ],
   "source": [
    "#Question 2\n",
    "df2 = pd.read_csv('week6_2-1.csv')\n",
    "df2.info()\n",
    "\n",
    "corr2 = pearsonr(df2['dollars'],df2['satisfaction'])\n",
    "corr2\n",
    "print(\"There is no correlation and it is only stastically significant at 90%\")"
   ]
  },
  {
   "cell_type": "code",
   "execution_count": 8,
   "metadata": {},
   "outputs": [
    {
     "data": {
      "text/plain": [
       "49.996100595436815"
      ]
     },
     "execution_count": 8,
     "metadata": {},
     "output_type": "execute_result"
    }
   ],
   "source": [
    "#QUESTION 3\n",
    "normaldist=random.normal(loc=50,scale=2,size=25)\n",
    "mean200=[]\n",
    "for i in range(200):\n",
    "    mean=np.random.choice(normaldist,25).mean()\n",
    "    mean200.append(mean)\n",
    "\n",
    "import statistics\n",
    "statistics.mean(mean200)"
   ]
  },
  {
   "cell_type": "code",
   "execution_count": 9,
   "metadata": {},
   "outputs": [
    {
     "data": {
      "image/png": "[encoded data removed]",
      "text/plain": [
       "<Figure size 640x480 with 2 Axes>"
      ]
     },
     "metadata": {},
     "output_type": "display_data"
    }
   ],
   "source": [
    "#QUESTION 4\n",
    "df3 = [[77,404],[16,122]]"
   ]
  }
 ],
 "metadata": {
  "kernelspec": {
   "display_name": "Python 3.10.8 64-bit (microsoft store)",
   "language": "python",
   "name": "python3"
  },
  "language_info": {
   "codemirror_mode": {
    "name": "ipython",
    "version": 3
   },
   "file_extension": ".py",
   "mimetype": "text/x-python",
   "name": "python",
   "nbconvert_exporter": "python",
   "pygments_lexer": "ipython3",
   "version": "3.10.8"
  },
  "orig_nbformat": 4,
  "vscode": {
   "interpreter": {
    "hash": "86b7ff701e4d3656eb4d12e4236d9d8e1f9da7ffae7f05b636f9f1f1fb530650"
   }
  }
 },
 "nbformat": 4,
 "nbformat_minor": 2
}
