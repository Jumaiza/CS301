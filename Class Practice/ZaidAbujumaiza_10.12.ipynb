{
 "cells": [
  {
   "cell_type": "code",
   "execution_count": 62,
   "metadata": {},
   "outputs": [],
   "source": [
    "import numpy as np\n",
    "from numpy import mean,random\n",
    "from numpy import std\n",
    "from numpy.random import randn\n",
    "from numpy.random import seed\n",
    "from matplotlib import pyplot\n",
    "from numpy import cov\n",
    "from scipy.stats import pearsonr, chi2_contingency\n",
    "from scipy.stats import spearmanr\n",
    "import scipy.stats as stats\n",
    "import pandas as pd\n",
    "import seaborn as sns\n",
    "import statistics"
   ]
  },
  {
   "cell_type": "code",
   "execution_count": 80,
   "metadata": {},
   "outputs": [
    {
     "name": "stdout",
     "output_type": "stream",
     "text": [
      "   Acheivement  Gpa\n",
      "0           98  3.6\n",
      "1           96  2.7\n",
      "2           94  3.1\n",
      "3           88  4.0\n",
      "4           91  3.2\n",
      "PearsonRResult(statistic=0.5241276226837908, pvalue=0.017683017959443027)\n",
      "There is a low positive correlation and it is statistically significant at 0.1\n"
     ]
    }
   ],
   "source": [
    "# Question 1\n",
    "df=pd.read_csv('week6_1.csv')\n",
    "print(df.head())\n",
    "corr = pearsonr(df['Acheivement'],df['Gpa'])\n",
    "print(corr)\n",
    "\n",
    "print(\"There is a low positive correlation and it is statistically significant at 0.1\")\n"
   ]
  },
  {
   "cell_type": "code",
   "execution_count": 81,
   "metadata": {},
   "outputs": [
    {
     "name": "stdout",
     "output_type": "stream",
     "text": [
      "   dollars  satisfaction\n",
      "0       11             6\n",
      "1       18             8\n",
      "2       17            10\n",
      "3       15             4\n",
      "4        9             9\n",
      "PearsonRResult(statistic=0.07644580898840958, pvalue=0.833748628679682)\n",
      "There is no correlation and it is only stastically significant at 90%\n"
     ]
    }
   ],
   "source": [
    "#Question 2\n",
    "df2 = pd.read_csv('week6_2.csv')\n",
    "print(df2.head())\n",
    "\n",
    "corr2 = pearsonr(df2['dollars'],df2['satisfaction'])\n",
    "print(corr2)\n",
    "print(\"There is no correlation and it is only stastically significant at 90%\")"
   ]
  },
  {
   "cell_type": "code",
   "execution_count": 78,
   "metadata": {},
   "outputs": [
    {
     "name": "stdout",
     "output_type": "stream",
     "text": [
      "P value is 0.252561330079388\n",
      "Independent and H0 holds True\n"
     ]
    }
   ],
   "source": [
    "#QUESTION 3\n",
    "df3 = [[77,404],[16,122]]\n",
    "stat,p,dof,exp=chi2_contingency(df3)\n",
    "alpha=0.05\n",
    "print('P value is',str(p))\n",
    "if p<=alpha:\n",
    "    print('Dependant and reject the null hypothesis')\n",
    "else:\n",
    "    print(\"Independent and H0 holds True\")"
   ]
  },
  {
   "cell_type": "code",
   "execution_count": 77,
   "metadata": {},
   "outputs": [
    {
     "data": {
      "text/plain": [
       "50.2155168601503"
      ]
     },
     "execution_count": 77,
     "metadata": {},
     "output_type": "execute_result"
    }
   ],
   "source": [
    "#PRACTICE QUESTION\n",
    "normaldist=random.normal(loc=50,scale=2,size=25)\n",
    "mean200=[]\n",
    "for i in range(200):\n",
    "    mean=np.random.choice(normaldist,25).mean()\n",
    "    mean200.append(mean)\n",
    "\n",
    "import statistics\n",
    "statistics.mean(mean200)"
   ]
  }
 ],
 "metadata": {
  "kernelspec": {
   "display_name": "Python 3.10.7 64-bit",
   "language": "python",
   "name": "python3"
  },
  "language_info": {
   "codemirror_mode": {
    "name": "ipython",
    "version": 3
   },
   "file_extension": ".py",
   "mimetype": "text/x-python",
   "name": "python",
   "nbconvert_exporter": "python",
   "pygments_lexer": "ipython3",
   "version": "3.10.7"
  },
  "orig_nbformat": 4,
  "vscode": {
   "interpreter": {
    "hash": "aee8b7b246df8f9039afb4144a1f6fd8d2ca17a180786b69acc140d282b71a49"
   }
  }
 },
 "nbformat": 4,
 "nbformat_minor": 2
}
